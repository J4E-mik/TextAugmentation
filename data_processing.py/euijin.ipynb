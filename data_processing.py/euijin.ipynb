{
 "cells": [
  {
   "cell_type": "code",
   "execution_count": 4,
   "metadata": {},
   "outputs": [
    {
     "name": "stdout",
     "output_type": "stream",
     "text": [
      "random_insertion_replacement: 그러나 이것은 엄청난 테스트입니다\n"
     ]
    }
   ],
   "source": [
    "\n",
    "import pandas as pd\n",
    "from util.BertAugmentation import BertAugmentation\n",
    "from pathlib import Path\n",
    "\n",
    "\n",
    "BERT_aug = BertAugmentation()\n",
    "random_masking_insertion = BERT_aug.random_masking_insertion\n",
    "\n",
    "sentence = \"이것은 엄청난 테스트입니다\"\n",
    "ratio = 0.15\n",
    "print('random_insertion_replacement:', random_masking_insertion(sentence, ratio))\n",
    "\n",
    "# Load dataset\n",
    "input_path = '../static/data/음식점_train.csv'\n",
    "output_path = '../static/data/augmented_questions.csv'\n",
    "data = pd.read_csv(input_path)\n",
    "\n",
    "# Filter for QA여부 == 'q' and select the first 10 rows\n",
    "data = data[data[\"QA여부\"].str.lower() == 'q'].head(10)\n",
    "\n",
    "data[\"증강된 발화문\"] = data[\"발화문\"].apply(lambda x: random_masking_insertion(x, ratio))\n",
    "Path(\"static/data\").mkdir(parents=True, exist_ok=True)\n",
    "data.to_csv(output_path, index=False)"
   ]
  },
  {
   "cell_type": "code",
   "execution_count": null,
   "metadata": {},
   "outputs": [],
   "source": [
    "!pip install protobuf\n",
    "!pip install transformers\n",
    "!pip install torch torchvision torchaudio"
   ]
  }
 ],
 "metadata": {
  "kernelspec": {
   "display_name": "venv",
   "language": "python",
   "name": "python3"
  },
  "language_info": {
   "codemirror_mode": {
    "name": "ipython",
    "version": 3
   },
   "file_extension": ".py",
   "mimetype": "text/x-python",
   "name": "python",
   "nbconvert_exporter": "python",
   "pygments_lexer": "ipython3",
   "version": "3.10.5"
  },
  "orig_nbformat": 4
 },
 "nbformat": 4,
 "nbformat_minor": 2
}
