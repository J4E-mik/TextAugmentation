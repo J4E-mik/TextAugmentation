{
 "cells": [
  {
   "cell_type": "code",
   "execution_count": 3,
   "metadata": {},
   "outputs": [
    {
     "ename": "NameError",
     "evalue": "name '__file__' is not defined",
     "output_type": "error",
     "traceback": [
      "\u001b[1;31m---------------------------------------------------------------------------\u001b[0m",
      "\u001b[1;31mNameError\u001b[0m                                 Traceback (most recent call last)",
      "Cell \u001b[1;32mIn[3], line 5\u001b[0m\n\u001b[0;32m      2\u001b[0m \u001b[39mimport\u001b[39;00m \u001b[39mos\u001b[39;00m\n\u001b[0;32m      4\u001b[0m \u001b[39m# util 디렉토리를 sys.path에 추가\u001b[39;00m\n\u001b[1;32m----> 5\u001b[0m sys\u001b[39m.\u001b[39mpath\u001b[39m.\u001b[39mappend(os\u001b[39m.\u001b[39mpath\u001b[39m.\u001b[39mabspath(os\u001b[39m.\u001b[39mpath\u001b[39m.\u001b[39mjoin(os\u001b[39m.\u001b[39mpath\u001b[39m.\u001b[39mdirname(\u001b[39m__file__\u001b[39;49m), \u001b[39m\"\u001b[39m\u001b[39m..\u001b[39m\u001b[39m\"\u001b[39m)))\n\u001b[0;32m      6\u001b[0m \u001b[39mimport\u001b[39;00m \u001b[39mpandas\u001b[39;00m \u001b[39mas\u001b[39;00m \u001b[39mpd\u001b[39;00m\n\u001b[0;32m      7\u001b[0m \u001b[39mfrom\u001b[39;00m \u001b[39mutil\u001b[39;00m\u001b[39m.\u001b[39;00m\u001b[39mBertAugmentation\u001b[39;00m \u001b[39mimport\u001b[39;00m BertAugmentation\n",
      "\u001b[1;31mNameError\u001b[0m: name '__file__' is not defined"
     ]
    }
   ],
   "source": [
    "\n",
    "import pandas as pd\n",
    "from util.BertAugmentation import BertAugmentation\n",
    "from pathlib import Path\n",
    "\n",
    "\n",
    "BERT_aug = BertAugmentation()\n",
    "random_masking_insertion = BERT_aug.random_masking_insertion\n",
    "\n",
    "sentence = \"이것은 엄청난 테스트입니다\"\n",
    "ratio = 0.15\n",
    "print('random_insertion_replacement:', random_masking_insertion(sentence, ratio))\n",
    "\n",
    "import pandas as pd\n",
    "\n",
    "# Load dataset\n",
    "input_path = '../static/data/음식점_train.csv'\n",
    "output_path = '../static/data/augmented_questions.csv'\n",
    "data = pd.read_csv(input_path)\n",
    "\n",
    "# Filter for QA여부 == 'q' and select the first 10 rows\n",
    "data = data[data[\"QA여부\"].str.lower() == 'q'].head(10)\n",
    "\n",
    "data[\"증강된 발화문\"] = data[\"발화문\"].apply(lambda x: random_masking_insertion(x, ratio))\n",
    "Path(\"static/data\").mkdir(parents=True, exist_ok=True)\n",
    "data.to_csv(output_path, index=False)"
   ]
  },
  {
   "cell_type": "code",
   "execution_count": null,
   "metadata": {},
   "outputs": [],
   "source": [
    "!pip install protobuf\n",
    "!pip install transformers\n",
    "!pip install torch torchvision torchaudio"
   ]
  }
 ],
 "metadata": {
  "kernelspec": {
   "display_name": "venv",
   "language": "python",
   "name": "python3"
  },
  "language_info": {
   "codemirror_mode": {
    "name": "ipython",
    "version": 3
   },
   "file_extension": ".py",
   "mimetype": "text/x-python",
   "name": "python",
   "nbconvert_exporter": "python",
   "pygments_lexer": "ipython3",
   "version": "3.10.5"
  },
  "orig_nbformat": 4
 },
 "nbformat": 4,
 "nbformat_minor": 2
}
