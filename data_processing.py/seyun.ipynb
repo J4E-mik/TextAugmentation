{
 "cells": [
  {
   "cell_type": "code",
   "execution_count": null,
   "metadata": {},
   "outputs": [],
   "source": [
    "import csv\n",
    "\n",
    "input_file = \"../static/data/가구인테리어_train.csv\"\n",
    "output_file = \"../static/data/가구인테리어_train_qa.csv\"\n",
    "\n",
    "qa_pairs = []\n",
    "\n",
    "with open(input_file, \"r\", encoding=\"utf-8-sig\") as infile:\n",
    "    reader = csv.DictReader(infile)\n",
    "    utterances = [row[\"발화문\"] for row in reader]\n",
    "    \n",
    "    for i in range(0, len(utterances), 2):\n",
    "        if i + 1 < len(utterances):  # 두 줄씩 묶을 수 있는지 확인\n",
    "            question = utterances[i]      # 첫 번째는 Q\n",
    "            answer = utterances[i + 1]    # 두 번째는 A\n",
    "            qa_pairs.append([question, answer])\n",
    "            \n",
    "with open(output_file, \"w\", encoding=\"utf-8-sig\", newline=\"\") as outfile:\n",
    "    writer = csv.writer(outfile)\n",
    "    writer.writerow([\"Q\", \"A\"])\n",
    "    writer.writerows(qa_pairs)\n",
    "\n",
    "print(f\"변환 완료: {output_file}\")"
   ]
  },
  {
   "cell_type": "code",
   "execution_count": null,
   "metadata": {},
   "outputs": [],
   "source": [
    "!pip install pandas matplotlib seaborn wordcloud konlpy"
   ]
  },
  {
   "cell_type": "code",
   "execution_count": null,
   "metadata": {},
   "outputs": [],
   "source": [
    "!pip install git+https://github.com/wisenut-research/konoise.git\n"
   ]
  },
  {
   "cell_type": "code",
   "execution_count": 1,
   "metadata": {},
   "outputs": [],
   "source": [
    "# 질문/답변 길이 분석\n",
    "import pandas as pd\n",
    "df = pd.read_csv('가구인테리어_train_qa.csv')"
   ]
  },
  {
   "cell_type": "code",
   "execution_count": null,
   "metadata": {},
   "outputs": [],
   "source": [
    "print(df.head())\n",
    "\n",
    "df['Q_length'] = df['Q'].apply(lambda x: len(str(x)))\n",
    "df['A_length'] = df['A'].apply(lambda x: len(str(x)))\n",
    "\n",
    "import matplotlib.pyplot as plt\n",
    "import seaborn as sns\n",
    "\n",
    "plt.figure(figsize=(12, 6))\n",
    "\n",
    "plt.subplot(1, 2, 1)\n",
    "sns.histplot(df['Q_length'], kde=True, color='blue')\n",
    "plt.title('질문 길이 분포')\n",
    "\n",
    "plt.subplot(1, 2, 2)\n",
    "sns.histplot(df['A_length'], kde=True, color='green')\n",
    "plt.title('답변 길이 분포')\n",
    "\n",
    "plt.tight_layout()\n",
    "plt.show()"
   ]
  },
  {
   "cell_type": "code",
   "execution_count": null,
   "metadata": {},
   "outputs": [],
   "source": [
    "from konlpy.tag import Okt\n",
    "\n",
    "okt = Okt()\n",
    "\n",
    "def extract_nouns(text):\n",
    "    return okt.nouns(text)\n",
    "\n",
    "df = df.head(100000)\n",
    "\n",
    "df['Q_nouns'] = df['Q'].apply(extract_nouns)\n",
    "df['A_nouns'] = df['A'].apply(extract_nouns)\n",
    "\n",
    "q_nouns = sum(df['Q_nouns'], [])\n",
    "a_nouns = sum(df['A_nouns'], [])\n",
    "\n",
    "q_noun_counts = pd.Series(q_nouns).value_counts()\n",
    "a_noun_counts = pd.Series(a_nouns).value_counts()\n",
    "\n",
    "# 자주 등장하는 질문과 답변 시각화\n",
    "plt.figure(figsize=(12, 6))\n",
    "\n",
    "# 질문 빈도 시각화\n",
    "plt.subplot(1, 2, 1)\n",
    "q_noun_counts.head(10).plot(kind='barh', color='skyblue')\n",
    "plt.title('Top 10 Most Frequent Nouns in Questions')\n",
    "\n",
    "# 답변 빈도 시각화\n",
    "plt.subplot(1, 2, 2)\n",
    "a_noun_counts.head(10).plot(kind='barh', color='lightgreen')\n",
    "plt.title('Top 10 Most Frequent Nouns in Answers')\n",
    "\n",
    "plt.tight_layout()\n",
    "plt.show()"
   ]
  },
  {
   "cell_type": "code",
   "execution_count": 2,
   "metadata": {},
   "outputs": [
    {
     "ename": "NameError",
     "evalue": "name 'plt' is not defined",
     "output_type": "error",
     "traceback": [
      "\u001b[1;31m---------------------------------------------------------------------------\u001b[0m",
      "\u001b[1;31mNameError\u001b[0m                                 Traceback (most recent call last)",
      "Cell \u001b[1;32mIn[2], line 15\u001b[0m\n\u001b[0;32m     12\u001b[0m wordcloud_a \u001b[38;5;241m=\u001b[39m WordCloud(font_path\u001b[38;5;241m=\u001b[39mfont_path, width\u001b[38;5;241m=\u001b[39m\u001b[38;5;241m800\u001b[39m, height\u001b[38;5;241m=\u001b[39m\u001b[38;5;241m400\u001b[39m, background_color\u001b[38;5;241m=\u001b[39m\u001b[38;5;124m'\u001b[39m\u001b[38;5;124mwhite\u001b[39m\u001b[38;5;124m'\u001b[39m)\u001b[38;5;241m.\u001b[39mgenerate(text_a)\n\u001b[0;32m     14\u001b[0m \u001b[38;5;66;03m# Word Cloud 시각화\u001b[39;00m\n\u001b[1;32m---> 15\u001b[0m \u001b[43mplt\u001b[49m\u001b[38;5;241m.\u001b[39mfigure(figsize\u001b[38;5;241m=\u001b[39m(\u001b[38;5;241m14\u001b[39m, \u001b[38;5;241m7\u001b[39m))\n\u001b[0;32m     17\u001b[0m plt\u001b[38;5;241m.\u001b[39msubplot(\u001b[38;5;241m1\u001b[39m, \u001b[38;5;241m2\u001b[39m, \u001b[38;5;241m1\u001b[39m)\n\u001b[0;32m     18\u001b[0m plt\u001b[38;5;241m.\u001b[39mimshow(wordcloud_q, interpolation\u001b[38;5;241m=\u001b[39m\u001b[38;5;124m'\u001b[39m\u001b[38;5;124mbilinear\u001b[39m\u001b[38;5;124m'\u001b[39m)\n",
      "\u001b[1;31mNameError\u001b[0m: name 'plt' is not defined"
     ]
    }
   ],
   "source": [
    "from wordcloud import WordCloud\n",
    "\n",
    "# 한글 폰트 경로 지정 (예: 나눔고딕)\n",
    "font_path = '/font/NanumGothic.ttf'\n",
    "\n",
    "# 질문과 답변의 텍스트 합치기\n",
    "text_q = ' '.join(df['Q'].dropna())\n",
    "text_a = ' '.join(df['A'].dropna())\n",
    "\n",
    "# Word Cloud 생성 (한글 폰트 설정)\n",
    "wordcloud_q = WordCloud(font_path=font_path, width=800, height=400, background_color='white').generate(text_q)\n",
    "wordcloud_a = WordCloud(font_path=font_path, width=800, height=400, background_color='white').generate(text_a)\n",
    "\n",
    "# Word Cloud 시각화\n",
    "plt.figure(figsize=(14, 7))\n",
    "\n",
    "plt.subplot(1, 2, 1)\n",
    "plt.imshow(wordcloud_q, interpolation='bilinear')\n",
    "plt.title('Word Cloud for Questions')\n",
    "plt.axis('off')\n",
    "\n",
    "plt.subplot(1, 2, 2)\n",
    "plt.imshow(wordcloud_a, interpolation='bilinear')\n",
    "plt.title('Word Cloud for Answers')\n",
    "plt.axis('off')\n",
    "\n",
    "plt.tight_layout()\n",
    "plt.show()"
   ]
  },
  {
   "cell_type": "code",
   "execution_count": null,
   "metadata": {},
   "outputs": [
    {
     "name": "stdout",
     "output_type": "stream",
     "text": [
      "증강된 데이터가 'augmented_data.csv'로 저장되었습니다.\n"
     ]
    },
    {
     "name": "stderr",
     "output_type": "stream",
     "text": [
      "C:\\Users\\seun0\\AppData\\Local\\Temp\\ipykernel_15124\\2036932676.py:17: SettingWithCopyWarning: \n",
      "A value is trying to be set on a copy of a slice from a DataFrame.\n",
      "Try using .loc[row_indexer,col_indexer] = value instead\n",
      "\n",
      "See the caveats in the documentation: https://pandas.pydata.org/pandas-docs/stable/user_guide/indexing.html#returning-a-view-versus-a-copy\n",
      "  sampled_df['Q_augmented'] = sampled_df['Q'].apply(add_noise)\n"
     ]
    }
   ],
   "source": [
    "from noise_generator import *\n",
    "# 노이즈 추가 알고리즘\n",
    "# [disattach-letters 문자 분리, prob=1.] 행복한 ㄱㅏ정은 모두ㄱㅏ 닮았ㅈㅣ만, 불행한 ㄱㅏ정은 모두 ㅈㅓㅁㅏㄷㅏ의 ㅇㅣ유로 불행ㅎㅏㄷㅏ.\n",
    "# [change-vowels 자음 변경, prob=1.] 행복한 갸정은 묘듀갸 닮았지만, 불행한 갸정은 묘듀 져먀댜의 이우료 불행햐댜.\n",
    "# [palatalization 구개음화, prob=1.] 행보칸 가정은 모두가 닮았지만, 불행한 가정은 모두 저마다의 이유로 불행하다.\n",
    "def add_noise(text):\n",
    "    text =  (text, prob=1.)\n",
    "    return text\n",
    "\n",
    "# 증강할 데이터 선택(길이가 50 이상인 문장의 랜덤 추출)\n",
    "min_length = 80\n",
    "sampled_df = df[(df['Q'].apply(lambda x: len(x) >= min_length))]\n",
    "#sample_size = int(len(filtered_df)* 0.3)\n",
    "#sampled_df = filtered_df.sample(n=sample_size, random_state=42).copy()\n",
    "\n",
    "# Q 데이터 증강 (샘플링된 데이터만)\n",
    "sampled_df['Q_augmented'] = sampled_df['Q'].apply(add_noise)\n",
    "\n",
    "# 원본 Q, A와 증강된 Q를 새로운 데이터프레임에 합치기\n",
    "augmented_df = sampled_df[['Q_augmented', 'A']].rename(columns={'Q_augmented': 'Q'})\n",
    "\n",
    "# 증강 데이터를 새로운 파일로 저장\n",
    "augmented_df.to_csv('augmented_data_palatalization3.csv', index=False, encoding='utf-8-sig')\n",
    "\n",
    "print(\"증강된 데이터가 'augmented_data.csv'로 저장되었습니다.\")"
   ]
  }
 ],
 "metadata": {
  "kernelspec": {
   "display_name": "venv",
   "language": "python",
   "name": "python3"
  },
  "language_info": {
   "codemirror_mode": {
    "name": "ipython",
    "version": 3
   },
   "file_extension": ".py",
   "mimetype": "text/x-python",
   "name": "python",
   "nbconvert_exporter": "python",
   "pygments_lexer": "ipython3",
   "version": "3.12.1"
  }
 },
 "nbformat": 4,
 "nbformat_minor": 2
}
