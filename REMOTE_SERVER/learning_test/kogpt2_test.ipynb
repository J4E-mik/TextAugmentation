{
 "cells": [
  {
   "cell_type": "code",
   "execution_count": 1,
   "id": "4597c676-a6a4-447a-bf6c-8d7ea6815309",
   "metadata": {},
   "outputs": [
    {
     "name": "stderr",
     "output_type": "stream",
     "text": [
      "None of PyTorch, TensorFlow >= 2.0, or Flax have been found. Models won't be available and only tokenizers, configuration and file/data utilities can be used.\n"
     ]
    },
    {
     "data": {
      "application/vnd.jupyter.widget-view+json": {
       "model_id": "e9eaf145ed6642a0a701fcd056959d81",
       "version_major": 2,
       "version_minor": 0
      },
      "text/plain": [
       "tokenizer.json:   0%|          | 0.00/2.83M [00:00<?, ?B/s]"
      ]
     },
     "metadata": {},
     "output_type": "display_data"
    },
    {
     "data": {
      "application/vnd.jupyter.widget-view+json": {
       "model_id": "cf552eef72fc4e67b7bf2be308957145",
       "version_major": 2,
       "version_minor": 0
      },
      "text/plain": [
       "config.json:   0%|          | 0.00/1.00k [00:00<?, ?B/s]"
      ]
     },
     "metadata": {},
     "output_type": "display_data"
    },
    {
     "name": "stderr",
     "output_type": "stream",
     "text": [
      "The tokenizer class you load from this checkpoint is not the same type as the class this function is called from. It may result in unexpected tokenization. \n",
      "The tokenizer class you load from this checkpoint is 'GPT2Tokenizer'. \n",
      "The class this function is called from is 'PreTrainedTokenizerFast'.\n"
     ]
    },
    {
     "data": {
      "text/plain": [
       "['▁안녕',\n",
       " '하',\n",
       " '세',\n",
       " '요.',\n",
       " '▁한국어',\n",
       " '▁G',\n",
       " 'P',\n",
       " 'T',\n",
       " '-2',\n",
       " '▁입',\n",
       " '니다.',\n",
       " '😤',\n",
       " ':)',\n",
       " 'l^o']"
      ]
     },
     "execution_count": 1,
     "metadata": {},
     "output_type": "execute_result"
    }
   ],
   "source": [
    "from transformers import PreTrainedTokenizerFast\n",
    "tokenizer = PreTrainedTokenizerFast.from_pretrained(\"skt/kogpt2-base-v2\",\n",
    "  bos_token='</s>', eos_token='</s>', unk_token='<unk>',\n",
    "  pad_token='<pad>', mask_token='<mask>')\n",
    "tokenizer.tokenize(\"안녕하세요. 한국어 GPT-2 입니다.😤:)l^o\")"
   ]
  },
  {
   "cell_type": "code",
   "execution_count": 2,
   "id": "26e5ac9d-f909-4911-b3c2-d18cc91aa25e",
   "metadata": {
    "scrolled": true
   },
   "outputs": [
    {
     "ename": "ModuleNotFoundError",
     "evalue": "No module named 'torch'",
     "output_type": "error",
     "traceback": [
      "\u001b[0;31m---------------------------------------------------------------------------\u001b[0m",
      "\u001b[0;31mModuleNotFoundError\u001b[0m                       Traceback (most recent call last)",
      "Cell \u001b[0;32mIn[2], line 1\u001b[0m\n\u001b[0;32m----> 1\u001b[0m \u001b[38;5;28;01mimport\u001b[39;00m \u001b[38;5;21;01mtorch\u001b[39;00m\n\u001b[1;32m      2\u001b[0m \u001b[38;5;28;01mfrom\u001b[39;00m \u001b[38;5;21;01mtransformers\u001b[39;00m \u001b[38;5;28;01mimport\u001b[39;00m GPT2LMHeadModel\n\u001b[1;32m      4\u001b[0m model \u001b[38;5;241m=\u001b[39m GPT2LMHeadModel\u001b[38;5;241m.\u001b[39mfrom_pretrained(\u001b[38;5;124m'\u001b[39m\u001b[38;5;124mskt/kogpt2-base-v2\u001b[39m\u001b[38;5;124m'\u001b[39m)\n",
      "\u001b[0;31mModuleNotFoundError\u001b[0m: No module named 'torch'"
     ]
    }
   ],
   "source": [
    "import torch\n",
    "from transformers import GPT2LMHeadModel\n",
    "\n",
    "model = GPT2LMHeadModel.from_pretrained('skt/kogpt2-base-v2')\n",
    "text = '근육이 커지기 위해서는'\n",
    "input_ids = tokenizer.encode(text, return_tensors='pt')\n",
    "print(input_ids)\n"
   ]
  },
  {
   "cell_type": "code",
   "execution_count": null,
   "id": "883ed7b0-e5d1-4a20-ba9b-50a693aa5f83",
   "metadata": {},
   "outputs": [],
   "source": []
  },
  {
   "cell_type": "code",
   "execution_count": 5,
   "id": "ac045fbf-840d-4a71-842c-821bbb4b546f",
   "metadata": {},
   "outputs": [
    {
     "name": "stdout",
     "output_type": "stream",
     "text": [
      "근육이 커지기 위해서는 무엇보다 규칙적인 생활습관이 중요하다.\n",
      "특히, 아침식사는 단백질과 비타민이 풍부한 과일과 채소를 많이 섭취하는 것이 좋다.\n",
      "또한 하루 30분 이상 충분한 수면을 취하는 것도 도움이 된다.\n",
      "아침 식사를 거르지 않고 규칙적으로 운동을 하면 혈액순환에 도움을 줄 뿐만 아니라 신진대사를 촉진해 체내 노폐물을 배출하고 혈압을 낮춰준다.\n",
      "운동은 하루에 10분 정도만 하는 게 좋으며 운동 후에는 반드시 스트레칭을 통해 근육량을 늘리고 유연성을 높여야 한다.\n",
      "운동 후 바로 잠자리에 드는 것은 피해야 하며 특히 아침에 일어나면 몸이 피곤해지기 때문에 무리하게 움직이면 오히려 역효과가 날 수도 있다.\n",
      "운동을\n"
     ]
    }
   ],
   "source": [
    "gen_ids = model.generate(input_ids,\n",
    "                           max_length=128,\n",
    "                           repetition_penalty=2.0,\n",
    "                           pad_token_id=tokenizer.pad_token_id,\n",
    "                           eos_token_id=tokenizer.eos_token_id,\n",
    "                           bos_token_id=tokenizer.bos_token_id,\n",
    "                           use_cache=True)\n",
    "generated = tokenizer.decode(gen_ids[0])\n",
    "print(generated)"
   ]
  },
  {
   "cell_type": "code",
   "execution_count": null,
   "id": "e215a32e-268d-470e-a550-dce84836feb1",
   "metadata": {},
   "outputs": [],
   "source": [
    "tokenizer = AutoTokenizer.from_pretrained('skt/kogpt2-base-v2', bos_token='</s>', eos_token='</s>', pad_token='<pad>')"
   ]
  },
  {
   "cell_type": "code",
   "execution_count": null,
   "id": "8c11e7fc-3213-4d78-ae85-e59d0b0378bf",
   "metadata": {},
   "outputs": [],
   "source": [
    "from transfor4mers import AutoModelForCausalLM, AutoTokenizer\n",
    "from peft import LoraConfig, get_peft_model\n",
    "\n",
    "# 모델 로드\n",
    "model_name = \"skt/kogpt2-base-v2\"\n",
    "model = AutoModelForCausalLM.from_pretrained(model_name)\n",
    "tokenizer = AutoTokenizer.from_pretrained(model_name)\n",
    "\n",
    "# LoRa 설정\n",
    "lora_config = LoraConfig(\n",
    "    task_type=\"CAUSAL_LM\",\n",
    "    inference_mode=False,\n",
    "    r=16,  # LoRa 랭크\n",
    "    lora_alpha=32,\n",
    "    lora_dropout=0.1\n",
    ")\n",
    "model = get_peft_model(model, lora_config)\n",
    "\n",
    "# 훈련 준비\n",
    "from transformers import Trainer, TrainingArguments\n",
    "training_args = TrainingArguments(\n",
    "    output_dir=\"./results\",\n",
    "    evaluation_strategy=\"epoch\",\n",
    "    learning_rate=5e-4,\n",
    "    per_device_train_batch_size=4,\n",
    "    num_train_epochs=3,\n",
    "    save_strategy=\"epoch\",\n",
    "    logging_dir=\"./logs\",\n",
    ")\n",
    "\n",
    "trainer = Trainer(\n",
    "    model=model,\n",
    "    args=training_args,\n",
    "    train_dataset=your_tokenized_train_dataset,  # 사용자 데이터셋\n",
    "    eval_dataset=your_tokenized_eval_dataset    # 평가 데이터셋\n",
    ")\n",
    "\n",
    "# 모델 훈련\n",
    "trainer.train()"
   ]
  },
  {
   "cell_type": "code",
   "execution_count": 12,
   "id": "26823fba-e4f8-4f7b-8d29-12b7830f1060",
   "metadata": {},
   "outputs": [
    {
     "name": "stderr",
     "output_type": "stream",
     "text": [
      "findfont: Font family 'Malgun Gothic' not found.\n",
      "findfont: Font family 'Malgun Gothic' not found.\n",
      "findfont: Font family 'Malgun Gothic' not found.\n",
      "findfont: Font family 'Malgun Gothic' not found.\n",
      "findfont: Font family 'Malgun Gothic' not found.\n",
      "findfont: Font family 'Malgun Gothic' not found.\n",
      "findfont: Font family 'Malgun Gothic' not found.\n",
      "findfont: Font family 'Malgun Gothic' not found.\n",
      "findfont: Font family 'Malgun Gothic' not found.\n",
      "findfont: Font family 'Malgun Gothic' not found.\n",
      "findfont: Font family 'Malgun Gothic' not found.\n",
      "findfont: Font family 'Malgun Gothic' not found.\n",
      "findfont: Font family 'Malgun Gothic' not found.\n",
      "findfont: Font family 'Malgun Gothic' not found.\n",
      "findfont: Font family 'Malgun Gothic' not found.\n",
      "/home/team_user/miniconda3/envs/learningtest/lib/python3.12/site-packages/IPython/core/pylabtools.py:170: UserWarning: Glyph 44057 (\\N{HANGUL SYLLABLE GAT}) missing from font(s) DejaVu Sans.\n",
      "  fig.canvas.print_figure(bytes_io, **kw)\n",
      "/home/team_user/miniconda3/envs/learningtest/lib/python3.12/site-packages/IPython/core/pylabtools.py:170: UserWarning: Glyph 45796 (\\N{HANGUL SYLLABLE DA}) missing from font(s) DejaVu Sans.\n",
      "  fig.canvas.print_figure(bytes_io, **kw)\n",
      "findfont: Font family 'Malgun Gothic' not found.\n",
      "/home/team_user/miniconda3/envs/learningtest/lib/python3.12/site-packages/IPython/core/pylabtools.py:170: UserWarning: Glyph 51216 (\\N{HANGUL SYLLABLE JEOM}) missing from font(s) DejaVu Sans.\n",
      "  fig.canvas.print_figure(bytes_io, **kw)\n",
      "/home/team_user/miniconda3/envs/learningtest/lib/python3.12/site-packages/IPython/core/pylabtools.py:170: UserWarning: Glyph 49900 (\\N{HANGUL SYLLABLE SIM}) missing from font(s) DejaVu Sans.\n",
      "  fig.canvas.print_figure(bytes_io, **kw)\n",
      "/home/team_user/miniconda3/envs/learningtest/lib/python3.12/site-packages/IPython/core/pylabtools.py:170: UserWarning: Glyph 49884 (\\N{HANGUL SYLLABLE SI}) missing from font(s) DejaVu Sans.\n",
      "  fig.canvas.print_figure(bytes_io, **kw)\n",
      "/home/team_user/miniconda3/envs/learningtest/lib/python3.12/site-packages/IPython/core/pylabtools.py:170: UserWarning: Glyph 44036 (\\N{HANGUL SYLLABLE GAN}) missing from font(s) DejaVu Sans.\n",
      "  fig.canvas.print_figure(bytes_io, **kw)\n",
      "/home/team_user/miniconda3/envs/learningtest/lib/python3.12/site-packages/IPython/core/pylabtools.py:170: UserWarning: Glyph 50640 (\\N{HANGUL SYLLABLE E}) missing from font(s) DejaVu Sans.\n",
      "  fig.canvas.print_figure(bytes_io, **kw)\n",
      "/home/team_user/miniconda3/envs/learningtest/lib/python3.12/site-packages/IPython/core/pylabtools.py:170: UserWarning: Glyph 45716 (\\N{HANGUL SYLLABLE NEUN}) missing from font(s) DejaVu Sans.\n",
      "  fig.canvas.print_figure(bytes_io, **kw)\n",
      "findfont: Font family 'Malgun Gothic' not found.\n",
      "/home/team_user/miniconda3/envs/learningtest/lib/python3.12/site-packages/IPython/core/pylabtools.py:170: UserWarning: Glyph 50724 (\\N{HANGUL SYLLABLE O}) missing from font(s) DejaVu Sans.\n",
      "  fig.canvas.print_figure(bytes_io, **kw)\n",
      "/home/team_user/miniconda3/envs/learningtest/lib/python3.12/site-packages/IPython/core/pylabtools.py:170: UserWarning: Glyph 45720 (\\N{HANGUL SYLLABLE NEUL}) missing from font(s) DejaVu Sans.\n",
      "  fig.canvas.print_figure(bytes_io, **kw)\n",
      "findfont: Font family 'Malgun Gothic' not found.\n",
      "/home/team_user/miniconda3/envs/learningtest/lib/python3.12/site-packages/IPython/core/pylabtools.py:170: UserWarning: Glyph 54617 (\\N{HANGUL SYLLABLE HAG}) missing from font(s) DejaVu Sans.\n",
      "  fig.canvas.print_figure(bytes_io, **kw)\n",
      "/home/team_user/miniconda3/envs/learningtest/lib/python3.12/site-packages/IPython/core/pylabtools.py:170: UserWarning: Glyph 44368 (\\N{HANGUL SYLLABLE GYO}) missing from font(s) DejaVu Sans.\n",
      "  fig.canvas.print_figure(bytes_io, **kw)\n",
      "findfont: Font family 'Malgun Gothic' not found.\n",
      "/home/team_user/miniconda3/envs/learningtest/lib/python3.12/site-packages/IPython/core/pylabtools.py:170: UserWarning: Glyph 44052 (\\N{HANGUL SYLLABLE GASS}) missing from font(s) DejaVu Sans.\n",
      "  fig.canvas.print_figure(bytes_io, **kw)\n",
      "findfont: Font family 'Malgun Gothic' not found.\n",
      "/home/team_user/miniconda3/envs/learningtest/lib/python3.12/site-packages/IPython/core/pylabtools.py:170: UserWarning: Glyph 49436 (\\N{HANGUL SYLLABLE SEO}) missing from font(s) DejaVu Sans.\n",
      "  fig.canvas.print_figure(bytes_io, **kw)\n",
      "findfont: Font family 'Malgun Gothic' not found.\n",
      "/home/team_user/miniconda3/envs/learningtest/lib/python3.12/site-packages/IPython/core/pylabtools.py:170: UserWarning: Glyph 49688 (\\N{HANGUL SYLLABLE SU}) missing from font(s) DejaVu Sans.\n",
      "  fig.canvas.print_figure(bytes_io, **kw)\n",
      "findfont: Font family 'Malgun Gothic' not found.\n",
      "/home/team_user/miniconda3/envs/learningtest/lib/python3.12/site-packages/IPython/core/pylabtools.py:170: UserWarning: Glyph 50629 (\\N{HANGUL SYLLABLE EOB}) missing from font(s) DejaVu Sans.\n",
      "  fig.canvas.print_figure(bytes_io, **kw)\n",
      "/home/team_user/miniconda3/envs/learningtest/lib/python3.12/site-packages/IPython/core/pylabtools.py:170: UserWarning: Glyph 51012 (\\N{HANGUL SYLLABLE EUL}) missing from font(s) DejaVu Sans.\n",
      "  fig.canvas.print_figure(bytes_io, **kw)\n",
      "findfont: Font family 'Malgun Gothic' not found.\n",
      "/home/team_user/miniconda3/envs/learningtest/lib/python3.12/site-packages/IPython/core/pylabtools.py:170: UserWarning: Glyph 46308 (\\N{HANGUL SYLLABLE DEUL}) missing from font(s) DejaVu Sans.\n",
      "  fig.canvas.print_figure(bytes_io, **kw)\n",
      "/home/team_user/miniconda3/envs/learningtest/lib/python3.12/site-packages/IPython/core/pylabtools.py:170: UserWarning: Glyph 50632 (\\N{HANGUL SYLLABLE EOSS}) missing from font(s) DejaVu Sans.\n",
      "  fig.canvas.print_figure(bytes_io, **kw)\n",
      "findfont: Font family 'Malgun Gothic' not found.\n",
      "/home/team_user/miniconda3/envs/learningtest/lib/python3.12/site-packages/IPython/core/pylabtools.py:170: UserWarning: Glyph 52828 (\\N{HANGUL SYLLABLE CIN}) missing from font(s) DejaVu Sans.\n",
      "  fig.canvas.print_figure(bytes_io, **kw)\n",
      "/home/team_user/miniconda3/envs/learningtest/lib/python3.12/site-packages/IPython/core/pylabtools.py:170: UserWarning: Glyph 44396 (\\N{HANGUL SYLLABLE GU}) missing from font(s) DejaVu Sans.\n",
      "  fig.canvas.print_figure(bytes_io, **kw)\n",
      "/home/team_user/miniconda3/envs/learningtest/lib/python3.12/site-packages/IPython/core/pylabtools.py:170: UserWarning: Glyph 50752 (\\N{HANGUL SYLLABLE WA}) missing from font(s) DejaVu Sans.\n",
      "  fig.canvas.print_figure(bytes_io, **kw)\n",
      "findfont: Font family 'Malgun Gothic' not found.\n",
      "/home/team_user/miniconda3/envs/learningtest/lib/python3.12/site-packages/IPython/core/pylabtools.py:170: UserWarning: Glyph 44163 (\\N{HANGUL SYLLABLE GEOS}) missing from font(s) DejaVu Sans.\n",
      "  fig.canvas.print_figure(bytes_io, **kw)\n",
      "findfont: Font family 'Malgun Gothic' not found.\n",
      "/home/team_user/miniconda3/envs/learningtest/lib/python3.12/site-packages/IPython/core/pylabtools.py:170: UserWarning: Glyph 54588 (\\N{HANGUL SYLLABLE PI}) missing from font(s) DejaVu Sans.\n",
      "  fig.canvas.print_figure(bytes_io, **kw)\n",
      "/home/team_user/miniconda3/envs/learningtest/lib/python3.12/site-packages/IPython/core/pylabtools.py:170: UserWarning: Glyph 51088 (\\N{HANGUL SYLLABLE JA}) missing from font(s) DejaVu Sans.\n",
      "  fig.canvas.print_figure(bytes_io, **kw)\n",
      "/home/team_user/miniconda3/envs/learningtest/lib/python3.12/site-packages/IPython/core/pylabtools.py:170: UserWarning: Glyph 47484 (\\N{HANGUL SYLLABLE REUL}) missing from font(s) DejaVu Sans.\n",
      "  fig.canvas.print_figure(bytes_io, **kw)\n",
      "findfont: Font family 'Malgun Gothic' not found.\n",
      "/home/team_user/miniconda3/envs/learningtest/lib/python3.12/site-packages/IPython/core/pylabtools.py:170: UserWarning: Glyph 47673 (\\N{HANGUL SYLLABLE MEOG}) missing from font(s) DejaVu Sans.\n",
      "  fig.canvas.print_figure(bytes_io, **kw)\n",
      "findfont: Font family 'Malgun Gothic' not found.\n",
      "/home/team_user/miniconda3/envs/learningtest/lib/python3.12/site-packages/IPython/core/pylabtools.py:170: UserWarning: Glyph 51008 (\\N{HANGUL SYLLABLE EUN}) missing from font(s) DejaVu Sans.\n",
      "  fig.canvas.print_figure(bytes_io, **kw)\n",
      "findfont: Font family 'Malgun Gothic' not found.\n",
      "/home/team_user/miniconda3/envs/learningtest/lib/python3.12/site-packages/IPython/core/pylabtools.py:170: UserWarning: Glyph 45216 (\\N{HANGUL SYLLABLE NAL}) missing from font(s) DejaVu Sans.\n",
      "  fig.canvas.print_figure(bytes_io, **kw)\n",
      "/home/team_user/miniconda3/envs/learningtest/lib/python3.12/site-packages/IPython/core/pylabtools.py:170: UserWarning: Glyph 50472 (\\N{HANGUL SYLLABLE SSI}) missing from font(s) DejaVu Sans.\n",
      "  fig.canvas.print_figure(bytes_io, **kw)\n",
      "/home/team_user/miniconda3/envs/learningtest/lib/python3.12/site-packages/IPython/core/pylabtools.py:170: UserWarning: Glyph 44032 (\\N{HANGUL SYLLABLE GA}) missing from font(s) DejaVu Sans.\n",
      "  fig.canvas.print_figure(bytes_io, **kw)\n",
      "findfont: Font family 'Malgun Gothic' not found.\n",
      "/home/team_user/miniconda3/envs/learningtest/lib/python3.12/site-packages/IPython/core/pylabtools.py:170: UserWarning: Glyph 47569 (\\N{HANGUL SYLLABLE MALG}) missing from font(s) DejaVu Sans.\n",
      "  fig.canvas.print_figure(bytes_io, **kw)\n",
      "/home/team_user/miniconda3/envs/learningtest/lib/python3.12/site-packages/IPython/core/pylabtools.py:170: UserWarning: Glyph 50520 (\\N{HANGUL SYLLABLE ASS}) missing from font(s) DejaVu Sans.\n",
      "  fig.canvas.print_figure(bytes_io, **kw)\n",
      "findfont: Font family 'Malgun Gothic' not found.\n",
      "/home/team_user/miniconda3/envs/learningtest/lib/python3.12/site-packages/IPython/core/pylabtools.py:170: UserWarning: Glyph 45236 (\\N{HANGUL SYLLABLE NAE}) missing from font(s) DejaVu Sans.\n",
      "  fig.canvas.print_figure(bytes_io, **kw)\n",
      "/home/team_user/miniconda3/envs/learningtest/lib/python3.12/site-packages/IPython/core/pylabtools.py:170: UserWarning: Glyph 51068 (\\N{HANGUL SYLLABLE IL}) missing from font(s) DejaVu Sans.\n",
      "  fig.canvas.print_figure(bytes_io, **kw)\n",
      "findfont: Font family 'Malgun Gothic' not found.\n",
      "/home/team_user/miniconda3/envs/learningtest/lib/python3.12/site-packages/IPython/core/pylabtools.py:170: UserWarning: Glyph 48708 (\\N{HANGUL SYLLABLE BI}) missing from font(s) DejaVu Sans.\n",
      "  fig.canvas.print_figure(bytes_io, **kw)\n",
      "findfont: Font family 'Malgun Gothic' not found.\n",
      "/home/team_user/miniconda3/envs/learningtest/lib/python3.12/site-packages/IPython/core/pylabtools.py:170: UserWarning: Glyph 50732 (\\N{HANGUL SYLLABLE OL}) missing from font(s) DejaVu Sans.\n",
      "  fig.canvas.print_figure(bytes_io, **kw)\n",
      "findfont: Font family 'Malgun Gothic' not found.\n",
      "/home/team_user/miniconda3/envs/learningtest/lib/python3.12/site-packages/IPython/core/pylabtools.py:170: UserWarning: Glyph 45208 (\\N{HANGUL SYLLABLE NA}) missing from font(s) DejaVu Sans.\n",
      "  fig.canvas.print_figure(bytes_io, **kw)\n",
      "findfont: Font family 'Malgun Gothic' not found.\n",
      "findfont: Font family 'Malgun Gothic' not found.\n",
      "findfont: Font family 'Malgun Gothic' not found.\n",
      "findfont: Font family 'Malgun Gothic' not found.\n",
      "findfont: Font family 'Malgun Gothic' not found.\n",
      "findfont: Font family 'Malgun Gothic' not found.\n",
      "findfont: Font family 'Malgun Gothic' not found.\n",
      "findfont: Font family 'Malgun Gothic' not found.\n",
      "findfont: Font family 'Malgun Gothic' not found.\n",
      "findfont: Font family 'Malgun Gothic' not found.\n",
      "findfont: Font family 'Malgun Gothic' not found.\n",
      "findfont: Font family 'Malgun Gothic' not found.\n",
      "findfont: Font family 'Malgun Gothic' not found.\n",
      "findfont: Font family 'Malgun Gothic' not found.\n",
      "findfont: Font family 'Malgun Gothic' not found.\n",
      "findfont: Font family 'Malgun Gothic' not found.\n",
      "findfont: Font family 'Malgun Gothic' not found.\n",
      "findfont: Font family 'Malgun Gothic' not found.\n",
      "findfont: Font family 'Malgun Gothic' not found.\n",
      "findfont: Font family 'Malgun Gothic' not found.\n",
      "findfont: Font family 'Malgun Gothic' not found.\n",
      "findfont: Font family 'Malgun Gothic' not found.\n",
      "findfont: Font family 'Malgun Gothic' not found.\n",
      "findfont: Font family 'Malgun Gothic' not found.\n",
      "findfont: Font family 'Malgun Gothic' not found.\n",
      "findfont: Font family 'Malgun Gothic' not found.\n",
      "findfont: Font family 'Malgun Gothic' not found.\n",
      "findfont: Font family 'Malgun Gothic' not found.\n",
      "findfont: Font family 'Malgun Gothic' not found.\n",
      "findfont: Font family 'Malgun Gothic' not found.\n",
      "findfont: Font family 'Malgun Gothic' not found.\n",
      "findfont: Font family 'Malgun Gothic' not found.\n",
      "findfont: Font family 'Malgun Gothic' not found.\n",
      "findfont: Font family 'Malgun Gothic' not found.\n",
      "findfont: Font family 'Malgun Gothic' not found.\n",
      "findfont: Font family 'Malgun Gothic' not found.\n",
      "findfont: Font family 'Malgun Gothic' not found.\n",
      "findfont: Font family 'Malgun Gothic' not found.\n",
      "findfont: Font family 'Malgun Gothic' not found.\n",
      "findfont: Font family 'Malgun Gothic' not found.\n",
      "findfont: Font family 'Malgun Gothic' not found.\n",
      "findfont: Font family 'Malgun Gothic' not found.\n",
      "findfont: Font family 'Malgun Gothic' not found.\n",
      "findfont: Font family 'Malgun Gothic' not found.\n",
      "findfont: Font family 'Malgun Gothic' not found.\n",
      "findfont: Font family 'Malgun Gothic' not found.\n",
      "findfont: Font family 'Malgun Gothic' not found.\n",
      "findfont: Font family 'Malgun Gothic' not found.\n",
      "findfont: Font family 'Malgun Gothic' not found.\n",
      "findfont: Font family 'Malgun Gothic' not found.\n",
      "findfont: Font family 'Malgun Gothic' not found.\n",
      "findfont: Font family 'Malgun Gothic' not found.\n",
      "findfont: Font family 'Malgun Gothic' not found.\n",
      "findfont: Font family 'Malgun Gothic' not found.\n",
      "findfont: Font family 'Malgun Gothic' not found.\n",
      "findfont: Font family 'Malgun Gothic' not found.\n",
      "findfont: Font family 'Malgun Gothic' not found.\n",
      "findfont: Font family 'Malgun Gothic' not found.\n",
      "findfont: Font family 'Malgun Gothic' not found.\n",
      "findfont: Font family 'Malgun Gothic' not found.\n",
      "findfont: Font family 'Malgun Gothic' not found.\n",
      "findfont: Font family 'Malgun Gothic' not found.\n",
      "findfont: Font family 'Malgun Gothic' not found.\n",
      "findfont: Font family 'Malgun Gothic' not found.\n",
      "findfont: Font family 'Malgun Gothic' not found.\n",
      "findfont: Font family 'Malgun Gothic' not found.\n",
      "findfont: Font family 'Malgun Gothic' not found.\n",
      "findfont: Font family 'Malgun Gothic' not found.\n",
      "findfont: Font family 'Malgun Gothic' not found.\n",
      "findfont: Font family 'Malgun Gothic' not found.\n",
      "findfont: Font family 'Malgun Gothic' not found.\n"
     ]
    },
    {
     "data": {
      "image/png": "[encoded data removed]",
      "text/plain": [
       "<Figure size 1200x800 with 1 Axes>"
      ]
     },
     "metadata": {},
     "output_type": "display_data"
    }
   ],
   "source": [
    "from gensim.models import Word2Vec\n",
    "from sklearn.manifold import TSNE\n",
    "import matplotlib.pyplot as plt\n",
    "from nltk.tokenize import word_tokenize\n",
    "import nltk\n",
    "import numpy as np\n",
    "import matplotlib.font_manager as fm\n",
    "\n",
    "# 1. 데이터 준비\n",
    "sentences = [\n",
    "    \"나는 오늘 학교에 갔다.\",\n",
    "    \"학교에서 수학 수업을 들었다.\",\n",
    "    \"점심시간에는 친구와 피자를 먹었다.\",\n",
    "    \"오늘은 날씨가 맑았다.\",\n",
    "    \"내일은 비가 올 것 같다.\"\n",
    "]\n",
    "\n",
    "# 2. 데이터 토큰화\n",
    "tokenized_sentences = [word_tokenize(sentence) for sentence in sentences]\n",
    "\n",
    "# 3. Word2Vec 모델 학습\n",
    "model = Word2Vec(sentences=tokenized_sentences, vector_size=100, window=5, min_count=1, sg=1, workers=4)\n",
    "\n",
    "# 4. 단어 벡터 추출\n",
    "word_vectors = model.wv\n",
    "words = list(word_vectors.index_to_key)\n",
    "vectors = np.array([word_vectors[word] for word in words])  # NumPy 배열로 변환\n",
    "\n",
    "# 5. t-SNE로 차원 축소\n",
    "tsne = TSNE(n_components=2, perplexity=2, random_state=42)\n",
    "reduced_vectors = tsne.fit_transform(vectors)\n",
    "\n",
    "# 6. 데이터 시각화\n",
    "plt.figure(figsize=(12, 8))\n",
    "for i, word in enumerate(words):\n",
    "    x, y = reduced_vectors[i]\n",
    "    plt.scatter(x, y)\n",
    "    plt.annotate(word, (x, y), fontsize=9)\n",
    "plt.title(\"t-SNE Visualization of Word2Vec Word Embeddings\")\n",
    "plt.show()"
   ]
  },
  {
   "cell_type": "code",
   "execution_count": 5,
   "id": "463b4400-3457-474b-902f-b438bb7ec72b",
   "metadata": {},
   "outputs": [
    {
     "name": "stderr",
     "output_type": "stream",
     "text": [
      "[nltk_data] Downloading package punkt_tab to\n",
      "[nltk_data]     /home/team_user/nltk_data...\n",
      "[nltk_data]   Unzipping tokenizers/punkt_tab.zip.\n"
     ]
    },
    {
     "data": {
      "text/plain": [
       "True"
      ]
     },
     "execution_count": 5,
     "metadata": {},
     "output_type": "execute_result"
    }
   ],
   "source": [
    "nltk.download('punkt_tab')"
   ]
  },
  {
   "cell_type": "code",
   "execution_count": null,
   "id": "a32c563a-30d3-4ca7-a51e-7f05643a136c",
   "metadata": {},
   "outputs": [],
   "source": []
  }
 ],
 "metadata": {
  "kernelspec": {
   "display_name": "learningtest",
   "language": "python",
   "name": "learningtest"
  },
  "language_info": {
   "codemirror_mode": {
    "name": "ipython",
    "version": 3
   },
   "file_extension": ".py",
   "mimetype": "text/x-python",
   "name": "python",
   "nbconvert_exporter": "python",
   "pygments_lexer": "ipython3",
   "version": "3.12.7"
  }
 },
 "nbformat": 4,
 "nbformat_minor": 5
}
